{
 "cells": [
  {
   "cell_type": "code",
   "execution_count": 1,
   "metadata": {},
   "outputs": [],
   "source": [
    "import numpy as np\n",
    "import pandas as pd\n",
    "from sklearn.model_selection import train_test_split\n",
    "from sklearn import svm\n",
    "from sklearn import datasets\n",
    "import matplotlib.pyplot as plt"
   ]
  },
  {
   "cell_type": "code",
   "execution_count": 2,
   "metadata": {},
   "outputs": [],
   "source": [
    "X,y= datasets.load_wine(return_X_y= True)"
   ]
  },
  {
   "cell_type": "code",
   "execution_count": 17,
   "metadata": {},
   "outputs": [
    {
     "name": "stdout",
     "output_type": "stream",
     "text": [
      "(178, 13)\n",
      "(178,)\n",
      "<class 'numpy.ndarray'>\n"
     ]
    }
   ],
   "source": [
    "print(X.shape)\n",
    "print(y.shape)\n",
    "print(type(y))"
   ]
  },
  {
   "cell_type": "code",
   "execution_count": 5,
   "metadata": {},
   "outputs": [],
   "source": [
    "X_train, X_test, y_train, y_test= train_test_split(\n",
    "    X, y, test_size= .3, random_state= 1)\n",
    "X_train, X_unl, y_train, y_unl= train_test_split(\n",
    "    X_train, y_train, test_size= .7, random_state= 1)"
   ]
  },
  {
   "cell_type": "code",
   "execution_count": 6,
   "metadata": {},
   "outputs": [
    {
     "name": "stdout",
     "output_type": "stream",
     "text": [
      "(37, 13)\n",
      "(54, 13)\n",
      "(87, 13)\n"
     ]
    }
   ],
   "source": [
    "print(X_train.shape)\n",
    "print(X_test.shape)\n",
    "print(X_unl.shape)\n"
   ]
  },
  {
   "cell_type": "code",
   "execution_count": 7,
   "metadata": {},
   "outputs": [
    {
     "data": {
      "text/plain": [
       "numpy.ndarray"
      ]
     },
     "execution_count": 7,
     "metadata": {},
     "output_type": "execute_result"
    }
   ],
   "source": [
    "type(X_train)"
   ]
  },
  {
   "cell_type": "code",
   "execution_count": 9,
   "metadata": {},
   "outputs": [
    {
     "data": {
      "text/plain": [
       "0.9259259259259259"
      ]
     },
     "execution_count": 9,
     "metadata": {},
     "output_type": "execute_result"
    }
   ],
   "source": [
    "clf= svm.SVC(kernel= 'linear', probability= True, C=1).fit(X_train, y_train)\n",
    "clf.score(X_test, y_test)"
   ]
  },
  {
   "cell_type": "code",
   "execution_count": 10,
   "metadata": {},
   "outputs": [],
   "source": [
    "clp= clf.predict_proba(X_unl)\n",
    "lab= clf.predict(X_unl)"
   ]
  },
  {
   "cell_type": "code",
   "execution_count": 11,
   "metadata": {},
   "outputs": [
    {
     "data": {
      "text/plain": [
       "array([[0.42003181, 0.47795058, 0.10201761],\n",
       "       [0.20595554, 0.52067765, 0.27336681],\n",
       "       [0.45480594, 0.40310585, 0.1420882 ],\n",
       "       [0.17482056, 0.20656905, 0.61861039],\n",
       "       [0.26070061, 0.64925922, 0.09004017],\n",
       "       [0.20499739, 0.67393091, 0.1210717 ],\n",
       "       [0.14226252, 0.7586694 , 0.09906808],\n",
       "       [0.67780338, 0.23821732, 0.0839793 ],\n",
       "       [0.17749549, 0.7046608 , 0.11784371],\n",
       "       [0.2516777 , 0.08628949, 0.66203281],\n",
       "       [0.14025267, 0.59539045, 0.26435689],\n",
       "       [0.45965376, 0.3744932 , 0.16585304],\n",
       "       [0.27879583, 0.12188059, 0.59932359],\n",
       "       [0.37962253, 0.17135052, 0.44902695],\n",
       "       [0.15226965, 0.70692658, 0.14080377],\n",
       "       [0.14226807, 0.47207602, 0.38565591],\n",
       "       [0.38633045, 0.47799847, 0.13567108],\n",
       "       [0.144852  , 0.78714153, 0.06800647],\n",
       "       [0.14685964, 0.2561076 , 0.59703276],\n",
       "       [0.17146658, 0.38723559, 0.44129782],\n",
       "       [0.15613004, 0.59553007, 0.24833989],\n",
       "       [0.52843527, 0.35820369, 0.11336104],\n",
       "       [0.32697939, 0.52617746, 0.14684315],\n",
       "       [0.28891215, 0.0831848 , 0.62790305],\n",
       "       [0.20077914, 0.31112867, 0.4880922 ],\n",
       "       [0.53593128, 0.36238938, 0.10167934],\n",
       "       [0.22304393, 0.65135818, 0.12559789],\n",
       "       [0.21168808, 0.05627092, 0.732041  ],\n",
       "       [0.19301416, 0.23192531, 0.57506053],\n",
       "       [0.58368654, 0.3259824 , 0.09033106],\n",
       "       [0.58959611, 0.30963535, 0.10076854],\n",
       "       [0.16749359, 0.74734457, 0.08516184],\n",
       "       [0.55167105, 0.33019581, 0.11813314],\n",
       "       [0.28273507, 0.61808503, 0.0991799 ],\n",
       "       [0.19141614, 0.05638806, 0.7521958 ],\n",
       "       [0.15906648, 0.73269083, 0.1082427 ],\n",
       "       [0.1485498 , 0.52950257, 0.32194762],\n",
       "       [0.17910158, 0.61997601, 0.20092241],\n",
       "       [0.18691898, 0.3111635 , 0.50191752],\n",
       "       [0.37166937, 0.5018092 , 0.12652142],\n",
       "       [0.25641365, 0.62349751, 0.12008884],\n",
       "       [0.68870288, 0.21620457, 0.09509254],\n",
       "       [0.22391894, 0.63318797, 0.14289309],\n",
       "       [0.40669408, 0.11358182, 0.4797241 ],\n",
       "       [0.44740761, 0.44063335, 0.11195903],\n",
       "       [0.59459511, 0.30187027, 0.10353462],\n",
       "       [0.17805106, 0.67242761, 0.14952133],\n",
       "       [0.41845259, 0.46608355, 0.11546386],\n",
       "       [0.31710591, 0.57448915, 0.10840494],\n",
       "       [0.21203132, 0.38927923, 0.39868945],\n",
       "       [0.48197259, 0.40587409, 0.11215332],\n",
       "       [0.57206834, 0.31810579, 0.10982587],\n",
       "       [0.15769075, 0.70342823, 0.13888102],\n",
       "       [0.4640313 , 0.37605328, 0.15991541],\n",
       "       [0.26219459, 0.63311745, 0.10468797],\n",
       "       [0.26203817, 0.10392679, 0.63403504],\n",
       "       [0.29148539, 0.11240024, 0.59611438],\n",
       "       [0.20141973, 0.7248283 , 0.07375197],\n",
       "       [0.22202942, 0.62669531, 0.15127528],\n",
       "       [0.18105809, 0.07514177, 0.74380014],\n",
       "       [0.2421143 , 0.23631629, 0.52156941],\n",
       "       [0.21300993, 0.60847315, 0.17851692],\n",
       "       [0.38855473, 0.50407076, 0.10737451],\n",
       "       [0.26397012, 0.62396146, 0.11206842],\n",
       "       [0.38301621, 0.13356637, 0.48341742],\n",
       "       [0.22903671, 0.16633236, 0.60463093],\n",
       "       [0.25867921, 0.36769556, 0.37362523],\n",
       "       [0.22689883, 0.69012316, 0.08297801],\n",
       "       [0.52916448, 0.35039332, 0.12044221],\n",
       "       [0.1728354 , 0.47027454, 0.35689006],\n",
       "       [0.19897052, 0.64358465, 0.15744483],\n",
       "       [0.12099226, 0.73984917, 0.13915858],\n",
       "       [0.2868132 , 0.44713193, 0.26605487],\n",
       "       [0.17710453, 0.71335474, 0.10954073],\n",
       "       [0.14115042, 0.71559894, 0.14325064],\n",
       "       [0.2036608 , 0.69586732, 0.10047188],\n",
       "       [0.19090506, 0.71921667, 0.08987827],\n",
       "       [0.24522048, 0.44382656, 0.31095296],\n",
       "       [0.18092626, 0.13960954, 0.6794642 ],\n",
       "       [0.45071358, 0.43987419, 0.10941223],\n",
       "       [0.2363899 , 0.65969455, 0.10391556],\n",
       "       [0.19751483, 0.06349751, 0.73898767],\n",
       "       [0.33526591, 0.53794602, 0.12678807],\n",
       "       [0.2379413 , 0.08675469, 0.675304  ],\n",
       "       [0.17221025, 0.74556268, 0.08222707],\n",
       "       [0.29394081, 0.48250428, 0.22355491],\n",
       "       [0.15260545, 0.77115632, 0.07623823]])"
      ]
     },
     "execution_count": 11,
     "metadata": {},
     "output_type": "execute_result"
    }
   ],
   "source": [
    "clp"
   ]
  },
  {
   "cell_type": "code",
   "execution_count": 12,
   "metadata": {},
   "outputs": [
    {
     "data": {
      "text/plain": [
       "array([0, 2, 0, 2, 1, 1, 1, 0, 1, 2, 1, 0, 2, 0, 1, 2, 0, 1, 2, 2, 1, 0,\n",
       "       0, 2, 2, 0, 1, 2, 2, 0, 0, 1, 0, 1, 2, 1, 2, 1, 2, 0, 1, 0, 1, 0,\n",
       "       0, 0, 1, 0, 1, 2, 0, 0, 1, 0, 1, 2, 2, 1, 1, 2, 2, 1, 0, 1, 0, 2,\n",
       "       0, 1, 0, 2, 1, 1, 0, 1, 1, 1, 1, 2, 2, 0, 1, 2, 0, 2, 1, 0, 1])"
      ]
     },
     "execution_count": 12,
     "metadata": {},
     "output_type": "execute_result"
    }
   ],
   "source": [
    "lab"
   ]
  },
  {
   "cell_type": "code",
   "execution_count": 18,
   "metadata": {},
   "outputs": [
    {
     "data": {
      "text/html": [
       "<div>\n",
       "<style scoped>\n",
       "    .dataframe tbody tr th:only-of-type {\n",
       "        vertical-align: middle;\n",
       "    }\n",
       "\n",
       "    .dataframe tbody tr th {\n",
       "        vertical-align: top;\n",
       "    }\n",
       "\n",
       "    .dataframe thead th {\n",
       "        text-align: right;\n",
       "    }\n",
       "</style>\n",
       "<table border=\"1\" class=\"dataframe\">\n",
       "  <thead>\n",
       "    <tr style=\"text-align: right;\">\n",
       "      <th></th>\n",
       "      <th>C1prob</th>\n",
       "      <th>C2prob</th>\n",
       "      <th>C3prob</th>\n",
       "      <th>lab</th>\n",
       "      <th>max</th>\n",
       "    </tr>\n",
       "  </thead>\n",
       "  <tbody>\n",
       "    <tr>\n",
       "      <td>0</td>\n",
       "      <td>0.420032</td>\n",
       "      <td>0.477951</td>\n",
       "      <td>0.102018</td>\n",
       "      <td>0</td>\n",
       "      <td>0.477951</td>\n",
       "    </tr>\n",
       "    <tr>\n",
       "      <td>1</td>\n",
       "      <td>0.205956</td>\n",
       "      <td>0.520678</td>\n",
       "      <td>0.273367</td>\n",
       "      <td>2</td>\n",
       "      <td>0.520678</td>\n",
       "    </tr>\n",
       "    <tr>\n",
       "      <td>2</td>\n",
       "      <td>0.454806</td>\n",
       "      <td>0.403106</td>\n",
       "      <td>0.142088</td>\n",
       "      <td>0</td>\n",
       "      <td>0.454806</td>\n",
       "    </tr>\n",
       "    <tr>\n",
       "      <td>3</td>\n",
       "      <td>0.174821</td>\n",
       "      <td>0.206569</td>\n",
       "      <td>0.618610</td>\n",
       "      <td>2</td>\n",
       "      <td>0.618610</td>\n",
       "    </tr>\n",
       "    <tr>\n",
       "      <td>4</td>\n",
       "      <td>0.260701</td>\n",
       "      <td>0.649259</td>\n",
       "      <td>0.090040</td>\n",
       "      <td>1</td>\n",
       "      <td>0.649259</td>\n",
       "    </tr>\n",
       "    <tr>\n",
       "      <td>...</td>\n",
       "      <td>...</td>\n",
       "      <td>...</td>\n",
       "      <td>...</td>\n",
       "      <td>...</td>\n",
       "      <td>...</td>\n",
       "    </tr>\n",
       "    <tr>\n",
       "      <td>82</td>\n",
       "      <td>0.335266</td>\n",
       "      <td>0.537946</td>\n",
       "      <td>0.126788</td>\n",
       "      <td>0</td>\n",
       "      <td>0.537946</td>\n",
       "    </tr>\n",
       "    <tr>\n",
       "      <td>83</td>\n",
       "      <td>0.237941</td>\n",
       "      <td>0.086755</td>\n",
       "      <td>0.675304</td>\n",
       "      <td>2</td>\n",
       "      <td>0.675304</td>\n",
       "    </tr>\n",
       "    <tr>\n",
       "      <td>84</td>\n",
       "      <td>0.172210</td>\n",
       "      <td>0.745563</td>\n",
       "      <td>0.082227</td>\n",
       "      <td>1</td>\n",
       "      <td>0.745563</td>\n",
       "    </tr>\n",
       "    <tr>\n",
       "      <td>85</td>\n",
       "      <td>0.293941</td>\n",
       "      <td>0.482504</td>\n",
       "      <td>0.223555</td>\n",
       "      <td>0</td>\n",
       "      <td>0.482504</td>\n",
       "    </tr>\n",
       "    <tr>\n",
       "      <td>86</td>\n",
       "      <td>0.152605</td>\n",
       "      <td>0.771156</td>\n",
       "      <td>0.076238</td>\n",
       "      <td>1</td>\n",
       "      <td>0.771156</td>\n",
       "    </tr>\n",
       "  </tbody>\n",
       "</table>\n",
       "<p>87 rows × 5 columns</p>\n",
       "</div>"
      ],
      "text/plain": [
       "      C1prob    C2prob    C3prob  lab       max\n",
       "0   0.420032  0.477951  0.102018    0  0.477951\n",
       "1   0.205956  0.520678  0.273367    2  0.520678\n",
       "2   0.454806  0.403106  0.142088    0  0.454806\n",
       "3   0.174821  0.206569  0.618610    2  0.618610\n",
       "4   0.260701  0.649259  0.090040    1  0.649259\n",
       "..       ...       ...       ...  ...       ...\n",
       "82  0.335266  0.537946  0.126788    0  0.537946\n",
       "83  0.237941  0.086755  0.675304    2  0.675304\n",
       "84  0.172210  0.745563  0.082227    1  0.745563\n",
       "85  0.293941  0.482504  0.223555    0  0.482504\n",
       "86  0.152605  0.771156  0.076238    1  0.771156\n",
       "\n",
       "[87 rows x 5 columns]"
      ]
     },
     "execution_count": 18,
     "metadata": {},
     "output_type": "execute_result"
    }
   ],
   "source": [
    "df= pd.DataFrame(clp, columns= ['C1prob', 'C2prob', 'C3prob'])\n",
    "df['lab']= lab\n",
    "df['max']= df[['C1prob', 'C2prob', 'C3prob']].max(axis=1)\n",
    "df"
   ]
  },
  {
   "cell_type": "code",
   "execution_count": 19,
   "metadata": {},
   "outputs": [
    {
     "data": {
      "text/plain": [
       "(array([ 2.,  7., 12., 11.,  4., 13., 12.,  9., 12.,  5.]),\n",
       " array([0.37362523, 0.41497686, 0.45632849, 0.49768012, 0.53903175,\n",
       "        0.58038338, 0.62173501, 0.66308664, 0.70443827, 0.7457899 ,\n",
       "        0.78714153]),\n",
       " <a list of 10 Patch objects>)"
      ]
     },
     "execution_count": 19,
     "metadata": {},
     "output_type": "execute_result"
    },
    {
     "data": {
      "image/png": "[encoded data removed]",
      "text/plain": [
       "<Figure size 432x288 with 1 Axes>"
      ]
     },
     "metadata": {
      "needs_background": "light"
     },
     "output_type": "display_data"
    }
   ],
   "source": [
    "plt.hist(df['max'])"
   ]
  },
  {
   "cell_type": "code",
   "execution_count": 20,
   "metadata": {},
   "outputs": [],
   "source": [
    "nc= np.arange(.35, 1, .03)\n",
    "acc= np.empty(22)\n",
    "i=0\n",
    "for k in np.nditer(nc):\n",
    "    conf_ind= df['max'] > k\n",
    "    X_train1= np.append(X_train, X_unl[conf_ind, :], axis=0)\n",
    "    y_train1= np.append(y_train, df.loc[conf_ind, ['lab']])\n",
    "    clf= svm.SVC(kernel= 'linear', probability= True, C=1).fit(X_train1, y_train1)\n",
    "    acc[i]= clf.score(X_test, y_test)\n",
    "    i= i+1"
   ]
  },
  {
   "cell_type": "code",
   "execution_count": 21,
   "metadata": {},
   "outputs": [
    {
     "data": {
      "image/png": "[encoded data removed]",
      "text/plain": [
       "<Figure size 432x288 with 1 Axes>"
      ]
     },
     "metadata": {
      "needs_background": "light"
     },
     "output_type": "display_data"
    }
   ],
   "source": [
    "\"Confidence vs Accuracy\"\n",
    "x= pd.Series(acc, index=nc)\n",
    "x.plot()\n",
    "plt.title(\"Confidence vs Accuracy\")\n",
    "plt.xlabel('Confidence')\n",
    "plt.ylabel('Accuracy')\n",
    "plt.show()"
   ]
  },
  {
   "cell_type": "code",
   "execution_count": 22,
   "metadata": {},
   "outputs": [
    {
     "data": {
      "text/plain": [
       "0.35    0.925926\n",
       "0.38    0.925926\n",
       "0.41    0.925926\n",
       "0.44    0.925926\n",
       "0.47    0.944444\n",
       "0.50    0.944444\n",
       "0.53    0.944444\n",
       "0.56    0.944444\n",
       "0.59    0.962963\n",
       "0.62    0.925926\n",
       "0.65    0.925926\n",
       "0.68    0.925926\n",
       "0.71    0.925926\n",
       "0.74    0.925926\n",
       "0.77    0.925926\n",
       "0.80    0.925926\n",
       "0.83    0.925926\n",
       "0.86    0.925926\n",
       "0.89    0.925926\n",
       "0.92    0.925926\n",
       "0.95    0.925926\n",
       "0.98    0.925926\n",
       "dtype: float64"
      ]
     },
     "execution_count": 22,
     "metadata": {},
     "output_type": "execute_result"
    }
   ],
   "source": [
    "x"
   ]
  },
  {
   "cell_type": "code",
   "execution_count": 26,
   "metadata": {},
   "outputs": [
    {
     "data": {
      "text/plain": [
       "0.9629629629629629"
      ]
     },
     "execution_count": 26,
     "metadata": {},
     "output_type": "execute_result"
    }
   ],
   "source": [
    "conf_ind= df['max'] > .6\n",
    "X_train2= np.append(X_train, X_unl[conf_ind, :], axis=0)\n",
    "y_train2= np.append(y_train, df.loc[conf_ind, ['lab']])\n",
    "clf= svm.SVC(kernel= 'linear', probability= True, C=1).fit(X_train2, y_train2)\n",
    "acc= clf.score(X_test, y_test)\n",
    "acc"
   ]
  },
  {
   "cell_type": "code",
   "execution_count": null,
   "metadata": {},
   "outputs": [],
   "source": []
  }
 ],
 "metadata": {
  "kernelspec": {
   "display_name": "Python 3",
   "language": "python",
   "name": "python3"
  },
  "language_info": {
   "codemirror_mode": {
    "name": "ipython",
    "version": 3
   },
   "file_extension": ".py",
   "mimetype": "text/x-python",
   "name": "python",
   "nbconvert_exporter": "python",
   "pygments_lexer": "ipython3",
   "version": "3.7.4"
  }
 },
 "nbformat": 4,
 "nbformat_minor": 2
}
